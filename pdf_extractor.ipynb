{
 "cells": [
  {
   "cell_type": "code",
   "execution_count": null,
   "metadata": {},
   "outputs": [],
   "source": [
    "from langchain_community.document_loaders import Docx2txtLoader\n",
    "from langchain_community.document_loaders import PyPDFLoader\n",
    "from pydantic import BaseModel, Field\n",
    "from dotenv import load_dotenv\n",
    "from typing import List\n",
    "from groq import Groq\n",
    "import pandas as pd\n",
    "import instructor\n",
    "import json\n",
    "import os"
   ]
  },
  {
   "cell_type": "code",
   "execution_count": null,
   "metadata": {},
   "outputs": [],
   "source": [
    "load_dotenv()\n",
    "# Configure Groq API\n",
    "groq_api_key = os.getenv(\"GROQ_API_KEY\")"
   ]
  },
  {
   "cell_type": "markdown",
   "metadata": {},
   "source": [
    "## Extract PDF text"
   ]
  },
  {
   "cell_type": "code",
   "execution_count": null,
   "metadata": {},
   "outputs": [],
   "source": [
    "#loader = PyPDFLoader(\"CV_avec_profil.pdf\")\n",
    "loader = PyPDFLoader(\"CV_sans_profil.pdf\")\n",
    "pages = loader.load_and_split()\n",
    "text = \" \".join(list(map(lambda page: page.page_content, pages)))\n",
    "print(text)"
   ]
  },
  {
   "cell_type": "markdown",
   "metadata": {},
   "source": [
    "## Extract WORD text"
   ]
  },
  {
   "cell_type": "code",
   "execution_count": null,
   "metadata": {},
   "outputs": [],
   "source": [
    "loader = Docx2txtLoader(\"cv_word.docx\")\n",
    "pages = loader.load_and_split()\n",
    "text = \" \".join(list(map(lambda page: page.page_content, pages)))\n",
    "print(text)"
   ]
  },
  {
   "cell_type": "markdown",
   "metadata": {},
   "source": [
    "## Pydantic class to extract information"
   ]
  },
  {
   "cell_type": "code",
   "execution_count": null,
   "metadata": {},
   "outputs": [],
   "source": [
    "default = \"\"\n",
    "\n",
    "class Formation(BaseModel):\n",
    "    \"\"\"Formations que le candidat a suivi\"\"\"\n",
    "    dates: str = Field(default=default)\n",
    "    intitule_formation: str = Field(default=default)\n",
    "    ecole: str = Field(default=default)\n",
    "\n",
    "class Experience(BaseModel):\n",
    "    \"\"\"Expériences professionnelles du candidat\"\"\"\n",
    "    dates: str = Field(default=default)\n",
    "    nom_entreprise: str = Field(default=default)\n",
    "    intitule_poste: str = Field(default=default)\n",
    "    missions: List[str] = Field(default=[])\n",
    "\n",
    "class Competence(BaseModel):\n",
    "    \"\"\"Compétence du candidat\"\"\"\n",
    "    nom_competence: str = Field(default=default)\n",
    "    niveau: str = Field(default=default)\n",
    "\n",
    "class Langue(BaseModel):\n",
    "    langue: str = Field(default=default)\n",
    "    niveau: str = Field(default=default)\n",
    "\n",
    "class Hobby(BaseModel):\n",
    "    type_hobby: str = Field(default=default)\n",
    "    nom_hobby: str = Field(default=default)\n",
    "\n",
    "class CvExtractor(BaseModel):\n",
    "    \"\"\"Informations à extraire du CV du candidat\"\"\"\n",
    "    nom: str = Field(default=default)\n",
    "    prenom: str = Field(default=default)\n",
    "    email: str = Field(default=default)\n",
    "    adresse: str = Field(default=default)\n",
    "    linkedin: str = Field(default=default)\n",
    "    formations: List[Formation]\n",
    "    experiences: List[Experience]\n",
    "    competences: List[Competence]\n",
    "    langues: List[Langue]\n",
    "    centres_interets: List[Hobby]\n",
    "\n",
    "class Raisonnement(BaseModel):\n",
    "    extraction_cv: CvExtractor\n",
    "    reponse_finale: str = Field(description=\"profil du candidat écrit en français en fonction des informations extraites du CV\")"
   ]
  },
  {
   "cell_type": "markdown",
   "metadata": {},
   "source": [
    "## Prompt Gen AI API to retrieve extracted Informations"
   ]
  },
  {
   "cell_type": "code",
   "execution_count": null,
   "metadata": {},
   "outputs": [],
   "source": [
    "client = instructor.from_groq(Groq(), mode=instructor.Mode.JSON)"
   ]
  },
  {
   "cell_type": "code",
   "execution_count": null,
   "metadata": {},
   "outputs": [],
   "source": [
    "sys_prompt = \"\"\"Tu es une IA experte dans l'analyse des CV de candidats. \n",
    "\n",
    "J'aimerais analyser le CV d'un candidat et savoir quelle est son profil.\n",
    "\n",
    "Ta tâche sera d'abord d'extraire les informations du CV sous formes de sections en suivant la structure du JSON Schema Raisonnement puis d'en déduire le profil du candidat dans \"reponse_finale\".\n",
    "\n",
    "Tu extrairas les informations du CV et n'inventeras pas d'informations, il est très important que tu suives la structure du Schéma Pydantic donné en paramètre !\"\"\"\n",
    "\n",
    "input_prompt = f\"\"\"\n",
    "Contenu du CV brut : {text}\n",
    "\n",
    "Réponse :\n",
    "\"\"\""
   ]
  },
  {
   "cell_type": "code",
   "execution_count": null,
   "metadata": {},
   "outputs": [],
   "source": [
    "def extract_cv(client, sys_prompt, input_prompt):\n",
    "    try:\n",
    "        response = client.chat.completions.create(\n",
    "            messages=[\n",
    "                {\"role\": \"system\", \"content\": sys_prompt},\n",
    "                {\"role\":\"user\", \"content\": input_prompt}\n",
    "            ],\n",
    "            #model=\"llama3-8b-8192\",\n",
    "            model=\"llama-3.3-70b-versatile\",\n",
    "            response_model=Raisonnement,\n",
    "        )\n",
    "        return response\n",
    "    except Exception as e:\n",
    "        print(f\"Erreur dans l'analyse du CV : {e}\")\n",
    "        return None"
   ]
  },
  {
   "cell_type": "code",
   "execution_count": null,
   "metadata": {},
   "outputs": [],
   "source": [
    "response = extract_cv(client, sys_prompt, input_prompt)\n",
    "if response:\n",
    "    response = json.loads(response.model_dump_json())\n",
    "    print(response)\n",
    "else:\n",
    "    print(\"Error parsing the resume.\")"
   ]
  },
  {
   "cell_type": "code",
   "execution_count": null,
   "metadata": {},
   "outputs": [],
   "source": [
    "df_formations = pd.DataFrame(response[\"extraction_cv\"][\"formations\"])\n",
    "df_formations = df_formations.rename(columns={\"dates\": \"Dates\", \"intitule_formation\": \"Formation\", \"ecole\": \"Ecole\"})\n",
    "\n",
    "df_experiences = pd.DataFrame(response[\"extraction_cv\"][\"experiences\"])\n",
    "df_experiences = df_experiences.rename(columns={\"dates\": \"Dates\", \"nom_entreprise\": \"Entreprise\", \"intitule_poste\":\"Poste\", \"missions\": \"Missions\"})\n",
    "\n",
    "df_competences = pd.DataFrame(response[\"extraction_cv\"][\"competences\"])\n",
    "df_competences = df_competences.rename(columns={\"nom_competence\":\"Competence\",\"niveau\":\"Niveau\"})\n",
    "\n",
    "df_langues = pd.DataFrame(response[\"extraction_cv\"][\"langues\"])\n",
    "df_langues = df_langues.rename(columns={\"langue\":\"Langue\", \"niveau\":\"Niveau\"})\n",
    "\n",
    "df_centres_interets = pd.DataFrame(response[\"extraction_cv\"][\"centres_interets\"])\n",
    "df_centres_interets = df_centres_interets.rename(columns={\"type_hobby\":\"Catégorie\", \"nom_hobby\":\"Hobby\"})\n",
    "\n",
    "del response[\"extraction_cv\"][\"formations\"]\n",
    "del response[\"extraction_cv\"][\"experiences\"]\n",
    "del response[\"extraction_cv\"][\"competences\"]\n",
    "del response[\"extraction_cv\"][\"centres_interets\"]\n",
    "del response[\"extraction_cv\"][\"langues\"]\n",
    "\n",
    "df_informations = pd.DataFrame(response[\"extraction_cv\"], index=[0])\n",
    "df_informations = df_informations.rename(columns={\"nom\":\"Nom\",\"prenom\":\"Prenom\",\"email\":\"Email\",\"adresse\":\"Adresse\",\"linkedin\":\"Profil linkedin\"})"
   ]
  },
  {
   "cell_type": "code",
   "execution_count": null,
   "metadata": {},
   "outputs": [],
   "source": [
    "response[\"reponse_finale\"]"
   ]
  },
  {
   "cell_type": "code",
   "execution_count": null,
   "metadata": {},
   "outputs": [],
   "source": [
    "df_informations"
   ]
  },
  {
   "cell_type": "code",
   "execution_count": null,
   "metadata": {},
   "outputs": [],
   "source": [
    "df_formations"
   ]
  },
  {
   "cell_type": "code",
   "execution_count": null,
   "metadata": {},
   "outputs": [],
   "source": [
    "df_experiences"
   ]
  },
  {
   "cell_type": "code",
   "execution_count": null,
   "metadata": {},
   "outputs": [],
   "source": [
    "df_competences"
   ]
  },
  {
   "cell_type": "code",
   "execution_count": null,
   "metadata": {},
   "outputs": [],
   "source": [
    "df_langues"
   ]
  },
  {
   "cell_type": "code",
   "execution_count": null,
   "metadata": {},
   "outputs": [],
   "source": [
    "df_centres_interets"
   ]
  }
 ],
 "metadata": {
  "kernelspec": {
   "display_name": "myenv",
   "language": "python",
   "name": "python3"
  },
  "language_info": {
   "codemirror_mode": {
    "name": "ipython",
    "version": 3
   },
   "file_extension": ".py",
   "mimetype": "text/x-python",
   "name": "python",
   "nbconvert_exporter": "python",
   "pygments_lexer": "ipython3",
   "version": "3.12.6"
  }
 },
 "nbformat": 4,
 "nbformat_minor": 2
}
