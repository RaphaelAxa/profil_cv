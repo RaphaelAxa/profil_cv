{
 "cells": [
  {
   "cell_type": "code",
   "execution_count": 1,
   "metadata": {},
   "outputs": [],
   "source": [
    "from langchain_community.document_loaders import Docx2txtLoader\n",
    "from langchain_community.document_loaders import PyPDFLoader\n",
    "from pydantic import BaseModel, Field\n",
    "import instructor\n",
    "from typing import List\n",
    "import pandas as pd\n",
    "from groq import Groq\n",
    "from dotenv import load_dotenv\n",
    "import json\n",
    "import os"
   ]
  },
  {
   "cell_type": "code",
   "execution_count": 2,
   "metadata": {},
   "outputs": [],
   "source": [
    "load_dotenv()\n",
    "# Configure Groq API\n",
    "groq_api_key = os.getenv(\"GROQ_API_KEY\")"
   ]
  },
  {
   "cell_type": "markdown",
   "metadata": {},
   "source": [
    "## Extract PDF text"
   ]
  },
  {
   "cell_type": "code",
   "execution_count": 3,
   "metadata": {},
   "outputs": [
    {
     "name": "stdout",
     "output_type": "stream",
     "text": [
      "CENTRES\n",
      "D’ I NTÉRÊT\n",
      "Thomas Garcia\n",
      "Football, Vélo, Natation\n",
      "123 Anywhere St., AnyCity,\n",
      "hello@reallygreatsite.com\n",
      "123-456-7890\n",
      "CONTACT\n",
      "Arabe       :  Bilingue\n",
      "Anglais     :  Niveau scolaire\n",
      "Espagnol  :  Niveau scolaire\n",
      "COMPÉTENCES\n",
      "FORMATI ON\n",
      "EXPÉRI ENCES\n",
      "LANGUES\n",
      "Permis\n",
      "Durance Média\n",
      "Bio&Bon\n",
      "12/12/2024\n",
      "12/12/2024\n",
      "CHARGÉE DE COMMUNICATION & MARKETING\n",
      "Lancement complète d'une marque\n",
      "Community manager : gestion des réseaux sociaux\n",
      "RP  (communiqués et dossiers de presse)\n",
      "Print (roll up; adhésifs, catalogue)\n",
      " ASSISTANTE MARKETING SERVICE SUPPORT\n",
      "Salons / Forums\n",
      "Organisation des visites lycées pour les chargés de recrutement\n",
      "Fitissimo\n",
      "Tempo\n",
      "12/12/2024\n",
      "12/12/2024\n",
      "CHARGÉE DE COMMUNICATION\n",
      "Réalisation kakémonos, banderoles, affiches, post sur les réseaux sociaux.\n",
      "Mise en place d'un jeu concours : prospection des lots\n",
      "Service accueil et photographie\n",
      "CHARGÉ DE COMMUNICATION\n",
      "Réalisation plaquette commerciale, logo, affiches ...\n",
      "Organisation d'événements (cérémonie, tournoi de pétanque)\n",
      "Gestion administration, site web, réseaux sociaux, publipostages\n",
      "Interviews sur le terrain, journaliste sportive, montage, publication\n",
      "2022 - Master spécialisé en marketing - École de commerce\n",
      "2020 - Licence commerce vente et marketing - École 1\n",
      "2019  - Bts communication - Lycée 2\n",
      "2017  - Bac littéraire (spécialité cinéma) - Lycée 1\n",
      "COMME R CI A L\n",
      "SPORTS :\n",
      "VOYAGES : \n",
      "Italie, Espagne, Angleterre\n",
      "LOGICIELS MAÎTRISÉS\n",
      "SalesForceWordExcel\n"
     ]
    }
   ],
   "source": [
    "#loader = PyPDFLoader(\"CV_avec_profil.pdf\")\n",
    "loader = PyPDFLoader(\"CV_sans_profil.pdf\")\n",
    "pages = loader.load_and_split()\n",
    "text = \" \".join(list(map(lambda page: page.page_content, pages)))\n",
    "print(text)"
   ]
  },
  {
   "cell_type": "markdown",
   "metadata": {},
   "source": [
    "## Extract WORD text"
   ]
  },
  {
   "cell_type": "code",
   "execution_count": 17,
   "metadata": {},
   "outputs": [
    {
     "name": "stdout",
     "output_type": "stream",
     "text": [
      "Chanchal Sharma\n",
      "\n",
      "\n",
      "\n",
      "\n",
      "\n",
      "Chef de bureau\n",
      "\n",
      "\n",
      "\n",
      "(718) 555–0100\n",
      "\n",
      "chanchals@example.com\n",
      "\n",
      "4567 Main Street City, ST 98052\n",
      "\n",
      "www.interestingsite.com\n",
      "\n",
      "\n",
      "\n",
      "\n",
      "\n",
      "Expérience\n",
      "\n",
      "Chef d’entreprise Opérateur téléphonique \n",
      "\n",
      "January 20XX - Actuel \n",
      "\n",
      "Résumez vos responsabilités et réalisations clés. Le cas échéant, utilisez la langue et les mots que vous trouvez dans la description de poste spécifique. Soyez concis et ciblez les zones clés de 3-5.\n",
      "\n",
      "Gestionnaire Office, Publication de nœuds \n",
      "\n",
      "Mars 20XX – Décembre 20XX \n",
      "\n",
      "Résumez vos responsabilités et réalisations clés. Là encore, profitez de toutes les occasions pour utiliser les mots que vous trouvez dans la description du poste. Soyez bref.\n",
      "\n",
      "Chef de bureau Location de vidéos \n",
      "\n",
      "Août 20XX – Mars 20XX \n",
      "\n",
      "Résumez vos responsabilités et réalisations clés. Là encore, profitez de toutes les occasions pour utiliser les mots que vous trouvez dans la description du poste. Soyez concis et ciblez les zones clés de 3-5.\n",
      "\n",
      "\n",
      "\n",
      "Éducation\n",
      "\n",
      "\n",
      "\n",
      "Sep 20XX - Mai 20XX\n",
      "\n",
      "Degré d’association, H.R. Gestion, Bellows College\n",
      "\n",
      "\n",
      "\n",
      "\n",
      "\n",
      "Compétences\n",
      "\n",
      "\n",
      "\n",
      "Gestion de projet\tAnalyse des données\tCommunication\n",
      "\n",
      "Organisation\tRésolution des problèmes \tGestion\n"
     ]
    }
   ],
   "source": [
    "loader = Docx2txtLoader(\"cv_word.docx\")\n",
    "pages = loader.load_and_split()\n",
    "text = \" \".join(list(map(lambda page: page.page_content, pages)))\n",
    "print(text)"
   ]
  },
  {
   "cell_type": "markdown",
   "metadata": {},
   "source": [
    "## Pydantic class to extract information"
   ]
  },
  {
   "cell_type": "code",
   "execution_count": 4,
   "metadata": {},
   "outputs": [],
   "source": [
    "default = \"\"\n",
    "\n",
    "class Formation(BaseModel):\n",
    "    \"\"\"Formations que le candidat a suivi\"\"\"\n",
    "    dates: str = Field(default=default)\n",
    "    intitule_formation: str = Field(default=default)\n",
    "    ecole: str = Field(default=default)\n",
    "\n",
    "class Experience(BaseModel):\n",
    "    \"\"\"Expériences professionnelles du candidat\"\"\"\n",
    "    dates: str = Field(default=default)\n",
    "    nom_entreprise: str = Field(default=default)\n",
    "    intitule_poste: str = Field(default=default)\n",
    "    missions: List[str] = Field(default=[])\n",
    "\n",
    "class Competence(BaseModel):\n",
    "    \"\"\"Compétence du candidat\"\"\"\n",
    "    nom_competence: str = Field(default=default)\n",
    "    niveau: str = Field(default=default)\n",
    "\n",
    "class Langue(BaseModel):\n",
    "    langue: str = Field(default=default)\n",
    "    niveau: str = Field(default=default)\n",
    "\n",
    "class Hobby(BaseModel):\n",
    "    type_hobby: str = Field(default=default)\n",
    "    nom_hobby: str = Field(default=default)\n",
    "\n",
    "class CvExtractor(BaseModel):\n",
    "    \"\"\"Informations à extraire du CV du candidat\"\"\"\n",
    "    nom: str = Field(default=default)\n",
    "    prenom: str = Field(default=default)\n",
    "    email: str = Field(default=default)\n",
    "    adresse: str = Field(default=default)\n",
    "    linkedin: str = Field(default=default)\n",
    "    formations: List[Formation]\n",
    "    experiences: List[Experience]\n",
    "    competences: List[Competence]\n",
    "    langues: List[Langue]\n",
    "    centres_interets: List[Hobby]\n",
    "\n",
    "class Raisonnement(BaseModel):\n",
    "    extraction_cv: CvExtractor\n",
    "    reponse_finale: str = Field(description=\"profil du candidat écrit en français en fonction des informations extraites du CV\")"
   ]
  },
  {
   "cell_type": "markdown",
   "metadata": {},
   "source": [
    "## Prompt Gen AI API to retrieve extracted Informations"
   ]
  },
  {
   "cell_type": "code",
   "execution_count": 18,
   "metadata": {},
   "outputs": [],
   "source": [
    "client = instructor.from_groq(Groq(), mode=instructor.Mode.JSON)"
   ]
  },
  {
   "cell_type": "code",
   "execution_count": 20,
   "metadata": {},
   "outputs": [],
   "source": [
    "sys_prompt = \"\"\"Tu es une IA experte dans l'analyse des CV de candidats. \n",
    "\n",
    "J'aimerais analyser le CV d'un candidat et savoir quelle est son profil.\n",
    "\n",
    "Ta tâche sera d'abord d'extraire les informations du CV sous formes de sections en suivant la structure du JSON Schema Raisonnement puis d'en déduire le profil du candidat dans \"reponse_finale\".\n",
    "\n",
    "Tu extrairas les informations du CV et n'inventeras pas d'informations, il est très important que tu suives la structure du Schéma Pydantic donné en paramètre !\"\"\"\n",
    "\n",
    "input_prompt = f\"\"\"\n",
    "Contenu du CV brut : {text}\n",
    "\n",
    "Réponse :\n",
    "\"\"\""
   ]
  },
  {
   "cell_type": "code",
   "execution_count": 31,
   "metadata": {},
   "outputs": [
    {
     "data": {
      "text/plain": [
       "'Tu es une IA experte dans l\\'analyse des CV de candidats. \\n\\nJ\\'aimerais analyser le CV d\\'un candidat et savoir quelle est son profil.\\n\\nTa tâche sera d\\'abord d\\'extraire les informations du CV sous formes de sections en suivant la structure du JSON Schema Raisonnement puis d\\'en déduire le profil du candidat dans \"reponse_finale\".\\n\\nTu extrairas les informations du CV et n\\'inventeras pas d\\'informations, il est très important que tu suives la structure du Schéma Pydantic donné en paramètre !'"
      ]
     },
     "execution_count": 31,
     "metadata": {},
     "output_type": "execute_result"
    }
   ],
   "source": [
    "sys_prompt"
   ]
  },
  {
   "cell_type": "code",
   "execution_count": 45,
   "metadata": {},
   "outputs": [],
   "source": [
    "def extract_cv(client, sys_prompt, input_prompt):\n",
    "    try:\n",
    "        response = client.chat.completions.create(\n",
    "            messages=[\n",
    "                {\"role\": \"system\", \"content\": sys_prompt},\n",
    "                {\"role\":\"user\", \"content\": input_prompt}\n",
    "            ],\n",
    "            #model=\"llama3-8b-8192\",\n",
    "            model=\"llama-3.3-70b-versatile\",\n",
    "            response_model=Raisonnement,\n",
    "        )\n",
    "        return response\n",
    "    except Exception as e:\n",
    "        print(f\"Erreur dans l'analyse du CV : {e}\")\n",
    "        return None"
   ]
  },
  {
   "cell_type": "code",
   "execution_count": 46,
   "metadata": {},
   "outputs": [
    {
     "name": "stdout",
     "output_type": "stream",
     "text": [
      "{'extraction_cv': {'nom': 'Chanchal', 'prenom': 'Sharma', 'email': 'chanchals@example.com', 'adresse': '4567 Main Street City, ST 98052', 'linkedin': 'www.interestingsite.com', 'formations': [{'dates': 'Sep 20XX - Mai 20XX', 'intitule_formation': 'Degré d’association, H.R. Gestion', 'ecole': 'Bellows College'}], 'experiences': [{'dates': 'January 20XX - Actuel', 'nom_entreprise': '', 'intitule_poste': 'Chef d’entreprise Opérateur téléphonique', 'missions': ['Gestion de projet', 'Analyse des données', 'Communication', 'Organisation', 'Résolution des problèmes', 'Gestion']}, {'dates': 'Mars 20XX – Décembre 20XX', 'nom_entreprise': '', 'intitule_poste': 'Gestionnaire Office, Publication de nœuds', 'missions': []}, {'dates': 'Août 20XX – Mars 20XX', 'nom_entreprise': '', 'intitule_poste': 'Chef de bureau Location de vidéos', 'missions': []}], 'competences': [{'nom_competence': 'Gestion de projet', 'niveau': ''}, {'nom_competence': 'Analyse des données', 'niveau': ''}, {'nom_competence': 'Communication', 'niveau': ''}, {'nom_competence': 'Organisation', 'niveau': ''}, {'nom_competence': 'Résolution des problèmes', 'niveau': ''}, {'nom_competence': 'Gestion', 'niveau': ''}], 'langues': [], 'centres_interets': []}, 'reponse_finale': 'Chanchal Sharma est un chef de bureau expérimenté avec des compétences en gestion de projet, analyse des données, communication, organisation, résolution des problèmes et gestion. Il a occupé plusieurs postes, notamment celui de chef d’entreprise opérateur téléphonique, gestionnaire office et chef de bureau. Il détient un diplôme d’associé en gestion des ressources humaines de Bellows College.'}\n"
     ]
    }
   ],
   "source": [
    "response = extract_cv(client, sys_prompt, input_prompt)\n",
    "if response:\n",
    "    response = json.loads(response.model_dump_json())\n",
    "    print(response)\n",
    "else:\n",
    "    print(\"Error parsing the resume.\")"
   ]
  },
  {
   "cell_type": "code",
   "execution_count": 47,
   "metadata": {},
   "outputs": [],
   "source": [
    "df_formations = pd.DataFrame(response[\"extraction_cv\"][\"formations\"])\n",
    "df_formations = df_formations.rename(columns={\"dates\": \"Dates\", \"intitule_formation\": \"Formation\", \"ecole\": \"Ecole\"})\n",
    "\n",
    "df_experiences = pd.DataFrame(response[\"extraction_cv\"][\"experiences\"])\n",
    "df_experiences = df_experiences.rename(columns={\"dates\": \"Dates\", \"nom_entreprise\": \"Entreprise\", \"intitule_poste\":\"Poste\", \"missions\": \"Missions\"})\n",
    "\n",
    "df_competences = pd.DataFrame(response[\"extraction_cv\"][\"competences\"])\n",
    "df_competences = df_competences.rename(columns={\"nom_competence\":\"Competence\",\"niveau\":\"Niveau\"})\n",
    "\n",
    "df_langues = pd.DataFrame(response[\"extraction_cv\"][\"langues\"])\n",
    "df_langues = df_langues.rename(columns={\"langue\":\"Langue\", \"niveau\":\"Niveau\"})\n",
    "\n",
    "df_centres_interets = pd.DataFrame(response[\"extraction_cv\"][\"centres_interets\"])\n",
    "df_centres_interets = df_centres_interets.rename(columns={\"type_hobby\":\"Catégorie\", \"nom_hobby\":\"Hobby\"})\n",
    "\n",
    "del response[\"extraction_cv\"][\"formations\"]\n",
    "del response[\"extraction_cv\"][\"experiences\"]\n",
    "del response[\"extraction_cv\"][\"competences\"]\n",
    "del response[\"extraction_cv\"][\"centres_interets\"]\n",
    "del response[\"extraction_cv\"][\"langues\"]\n",
    "\n",
    "df_informations = pd.DataFrame(response[\"extraction_cv\"], index=[0])\n",
    "df_informations = df_informations.rename(columns={\"nom\":\"Nom\",\"prenom\":\"Prenom\",\"email\":\"Email\",\"adresse\":\"Adresse\",\"linkedin\":\"Profil linkedin\"})"
   ]
  },
  {
   "cell_type": "code",
   "execution_count": 48,
   "metadata": {},
   "outputs": [
    {
     "data": {
      "text/plain": [
       "'Chanchal Sharma est un chef de bureau expérimenté avec des compétences en gestion de projet, analyse des données, communication, organisation, résolution des problèmes et gestion. Il a occupé plusieurs postes, notamment celui de chef d’entreprise opérateur téléphonique, gestionnaire office et chef de bureau. Il détient un diplôme d’associé en gestion des ressources humaines de Bellows College.'"
      ]
     },
     "execution_count": 48,
     "metadata": {},
     "output_type": "execute_result"
    }
   ],
   "source": [
    "response[\"reponse_finale\"]"
   ]
  },
  {
   "cell_type": "code",
   "execution_count": 49,
   "metadata": {},
   "outputs": [
    {
     "data": {
      "text/html": [
       "<div>\n",
       "<style scoped>\n",
       "    .dataframe tbody tr th:only-of-type {\n",
       "        vertical-align: middle;\n",
       "    }\n",
       "\n",
       "    .dataframe tbody tr th {\n",
       "        vertical-align: top;\n",
       "    }\n",
       "\n",
       "    .dataframe thead th {\n",
       "        text-align: right;\n",
       "    }\n",
       "</style>\n",
       "<table border=\"1\" class=\"dataframe\">\n",
       "  <thead>\n",
       "    <tr style=\"text-align: right;\">\n",
       "      <th></th>\n",
       "      <th>Nom</th>\n",
       "      <th>Prenom</th>\n",
       "      <th>Email</th>\n",
       "      <th>Adresse</th>\n",
       "      <th>Profil linkedin</th>\n",
       "    </tr>\n",
       "  </thead>\n",
       "  <tbody>\n",
       "    <tr>\n",
       "      <th>0</th>\n",
       "      <td>Chanchal</td>\n",
       "      <td>Sharma</td>\n",
       "      <td>chanchals@example.com</td>\n",
       "      <td>4567 Main Street City, ST 98052</td>\n",
       "      <td>www.interestingsite.com</td>\n",
       "    </tr>\n",
       "  </tbody>\n",
       "</table>\n",
       "</div>"
      ],
      "text/plain": [
       "        Nom  Prenom                  Email                          Adresse  \\\n",
       "0  Chanchal  Sharma  chanchals@example.com  4567 Main Street City, ST 98052   \n",
       "\n",
       "           Profil linkedin  \n",
       "0  www.interestingsite.com  "
      ]
     },
     "execution_count": 49,
     "metadata": {},
     "output_type": "execute_result"
    }
   ],
   "source": [
    "df_informations"
   ]
  },
  {
   "cell_type": "code",
   "execution_count": 50,
   "metadata": {},
   "outputs": [
    {
     "data": {
      "text/html": [
       "<div>\n",
       "<style scoped>\n",
       "    .dataframe tbody tr th:only-of-type {\n",
       "        vertical-align: middle;\n",
       "    }\n",
       "\n",
       "    .dataframe tbody tr th {\n",
       "        vertical-align: top;\n",
       "    }\n",
       "\n",
       "    .dataframe thead th {\n",
       "        text-align: right;\n",
       "    }\n",
       "</style>\n",
       "<table border=\"1\" class=\"dataframe\">\n",
       "  <thead>\n",
       "    <tr style=\"text-align: right;\">\n",
       "      <th></th>\n",
       "      <th>Dates</th>\n",
       "      <th>Formation</th>\n",
       "      <th>Ecole</th>\n",
       "    </tr>\n",
       "  </thead>\n",
       "  <tbody>\n",
       "    <tr>\n",
       "      <th>0</th>\n",
       "      <td>Sep 20XX - Mai 20XX</td>\n",
       "      <td>Degré d’association, H.R. Gestion</td>\n",
       "      <td>Bellows College</td>\n",
       "    </tr>\n",
       "  </tbody>\n",
       "</table>\n",
       "</div>"
      ],
      "text/plain": [
       "                 Dates                          Formation            Ecole\n",
       "0  Sep 20XX - Mai 20XX  Degré d’association, H.R. Gestion  Bellows College"
      ]
     },
     "execution_count": 50,
     "metadata": {},
     "output_type": "execute_result"
    }
   ],
   "source": [
    "df_formations"
   ]
  },
  {
   "cell_type": "code",
   "execution_count": 51,
   "metadata": {},
   "outputs": [
    {
     "data": {
      "text/html": [
       "<div>\n",
       "<style scoped>\n",
       "    .dataframe tbody tr th:only-of-type {\n",
       "        vertical-align: middle;\n",
       "    }\n",
       "\n",
       "    .dataframe tbody tr th {\n",
       "        vertical-align: top;\n",
       "    }\n",
       "\n",
       "    .dataframe thead th {\n",
       "        text-align: right;\n",
       "    }\n",
       "</style>\n",
       "<table border=\"1\" class=\"dataframe\">\n",
       "  <thead>\n",
       "    <tr style=\"text-align: right;\">\n",
       "      <th></th>\n",
       "      <th>Dates</th>\n",
       "      <th>Entreprise</th>\n",
       "      <th>Poste</th>\n",
       "      <th>Missions</th>\n",
       "    </tr>\n",
       "  </thead>\n",
       "  <tbody>\n",
       "    <tr>\n",
       "      <th>0</th>\n",
       "      <td>January 20XX - Actuel</td>\n",
       "      <td></td>\n",
       "      <td>Chef d’entreprise Opérateur téléphonique</td>\n",
       "      <td>[Gestion de projet, Analyse des données, Commu...</td>\n",
       "    </tr>\n",
       "    <tr>\n",
       "      <th>1</th>\n",
       "      <td>Mars 20XX – Décembre 20XX</td>\n",
       "      <td></td>\n",
       "      <td>Gestionnaire Office, Publication de nœuds</td>\n",
       "      <td>[]</td>\n",
       "    </tr>\n",
       "    <tr>\n",
       "      <th>2</th>\n",
       "      <td>Août 20XX – Mars 20XX</td>\n",
       "      <td></td>\n",
       "      <td>Chef de bureau Location de vidéos</td>\n",
       "      <td>[]</td>\n",
       "    </tr>\n",
       "  </tbody>\n",
       "</table>\n",
       "</div>"
      ],
      "text/plain": [
       "                       Dates Entreprise  \\\n",
       "0      January 20XX - Actuel              \n",
       "1  Mars 20XX – Décembre 20XX              \n",
       "2      Août 20XX – Mars 20XX              \n",
       "\n",
       "                                       Poste  \\\n",
       "0   Chef d’entreprise Opérateur téléphonique   \n",
       "1  Gestionnaire Office, Publication de nœuds   \n",
       "2          Chef de bureau Location de vidéos   \n",
       "\n",
       "                                            Missions  \n",
       "0  [Gestion de projet, Analyse des données, Commu...  \n",
       "1                                                 []  \n",
       "2                                                 []  "
      ]
     },
     "execution_count": 51,
     "metadata": {},
     "output_type": "execute_result"
    }
   ],
   "source": [
    "df_experiences"
   ]
  },
  {
   "cell_type": "code",
   "execution_count": 52,
   "metadata": {},
   "outputs": [
    {
     "data": {
      "text/html": [
       "<div>\n",
       "<style scoped>\n",
       "    .dataframe tbody tr th:only-of-type {\n",
       "        vertical-align: middle;\n",
       "    }\n",
       "\n",
       "    .dataframe tbody tr th {\n",
       "        vertical-align: top;\n",
       "    }\n",
       "\n",
       "    .dataframe thead th {\n",
       "        text-align: right;\n",
       "    }\n",
       "</style>\n",
       "<table border=\"1\" class=\"dataframe\">\n",
       "  <thead>\n",
       "    <tr style=\"text-align: right;\">\n",
       "      <th></th>\n",
       "      <th>Competence</th>\n",
       "      <th>Niveau</th>\n",
       "    </tr>\n",
       "  </thead>\n",
       "  <tbody>\n",
       "    <tr>\n",
       "      <th>0</th>\n",
       "      <td>Gestion de projet</td>\n",
       "      <td></td>\n",
       "    </tr>\n",
       "    <tr>\n",
       "      <th>1</th>\n",
       "      <td>Analyse des données</td>\n",
       "      <td></td>\n",
       "    </tr>\n",
       "    <tr>\n",
       "      <th>2</th>\n",
       "      <td>Communication</td>\n",
       "      <td></td>\n",
       "    </tr>\n",
       "    <tr>\n",
       "      <th>3</th>\n",
       "      <td>Organisation</td>\n",
       "      <td></td>\n",
       "    </tr>\n",
       "    <tr>\n",
       "      <th>4</th>\n",
       "      <td>Résolution des problèmes</td>\n",
       "      <td></td>\n",
       "    </tr>\n",
       "    <tr>\n",
       "      <th>5</th>\n",
       "      <td>Gestion</td>\n",
       "      <td></td>\n",
       "    </tr>\n",
       "  </tbody>\n",
       "</table>\n",
       "</div>"
      ],
      "text/plain": [
       "                 Competence Niveau\n",
       "0         Gestion de projet       \n",
       "1       Analyse des données       \n",
       "2             Communication       \n",
       "3              Organisation       \n",
       "4  Résolution des problèmes       \n",
       "5                   Gestion       "
      ]
     },
     "execution_count": 52,
     "metadata": {},
     "output_type": "execute_result"
    }
   ],
   "source": [
    "df_competences"
   ]
  },
  {
   "cell_type": "code",
   "execution_count": 53,
   "metadata": {},
   "outputs": [
    {
     "data": {
      "text/html": [
       "<div>\n",
       "<style scoped>\n",
       "    .dataframe tbody tr th:only-of-type {\n",
       "        vertical-align: middle;\n",
       "    }\n",
       "\n",
       "    .dataframe tbody tr th {\n",
       "        vertical-align: top;\n",
       "    }\n",
       "\n",
       "    .dataframe thead th {\n",
       "        text-align: right;\n",
       "    }\n",
       "</style>\n",
       "<table border=\"1\" class=\"dataframe\">\n",
       "  <thead>\n",
       "    <tr style=\"text-align: right;\">\n",
       "      <th></th>\n",
       "    </tr>\n",
       "  </thead>\n",
       "  <tbody>\n",
       "  </tbody>\n",
       "</table>\n",
       "</div>"
      ],
      "text/plain": [
       "Empty DataFrame\n",
       "Columns: []\n",
       "Index: []"
      ]
     },
     "execution_count": 53,
     "metadata": {},
     "output_type": "execute_result"
    }
   ],
   "source": [
    "df_langues"
   ]
  },
  {
   "cell_type": "code",
   "execution_count": 54,
   "metadata": {},
   "outputs": [
    {
     "data": {
      "text/html": [
       "<div>\n",
       "<style scoped>\n",
       "    .dataframe tbody tr th:only-of-type {\n",
       "        vertical-align: middle;\n",
       "    }\n",
       "\n",
       "    .dataframe tbody tr th {\n",
       "        vertical-align: top;\n",
       "    }\n",
       "\n",
       "    .dataframe thead th {\n",
       "        text-align: right;\n",
       "    }\n",
       "</style>\n",
       "<table border=\"1\" class=\"dataframe\">\n",
       "  <thead>\n",
       "    <tr style=\"text-align: right;\">\n",
       "      <th></th>\n",
       "    </tr>\n",
       "  </thead>\n",
       "  <tbody>\n",
       "  </tbody>\n",
       "</table>\n",
       "</div>"
      ],
      "text/plain": [
       "Empty DataFrame\n",
       "Columns: []\n",
       "Index: []"
      ]
     },
     "execution_count": 54,
     "metadata": {},
     "output_type": "execute_result"
    }
   ],
   "source": [
    "df_centres_interets"
   ]
  }
 ],
 "metadata": {
  "kernelspec": {
   "display_name": "myenv",
   "language": "python",
   "name": "python3"
  },
  "language_info": {
   "codemirror_mode": {
    "name": "ipython",
    "version": 3
   },
   "file_extension": ".py",
   "mimetype": "text/x-python",
   "name": "python",
   "nbconvert_exporter": "python",
   "pygments_lexer": "ipython3",
   "version": "3.12.6"
  }
 },
 "nbformat": 4,
 "nbformat_minor": 2
}
